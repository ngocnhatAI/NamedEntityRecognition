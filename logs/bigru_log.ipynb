{
 "cells": [
  {
   "cell_type": "markdown",
   "metadata": {},
   "source": [
    "## Model"
   ]
  },
  {
   "cell_type": "code",
   "execution_count": 13,
   "metadata": {
    "execution": {
     "iopub.execute_input": "2024-12-14T09:34:02.505723Z",
     "iopub.status.busy": "2024-12-14T09:34:02.505263Z",
     "iopub.status.idle": "2024-12-14T09:38:37.515718Z",
     "shell.execute_reply": "2024-12-14T09:38:37.514537Z",
     "shell.execute_reply.started": "2024-12-14T09:34:02.505692Z"
    },
    "trusted": true
   },
   "outputs": [
    {
     "name": "stdout",
     "output_type": "stream",
     "text": [
      "Epoch 1/10, Loss: 0.4168\n",
      "Train Precision: 0.7550, Recall: 0.6947, F1: 0.7084\n",
      "Dev Precision: 0.7561, Recall: 0.6736, F1: 0.6938\n",
      "\n",
      "Epoch 2/10, Loss: 0.1848\n",
      "Train Precision: 0.7965, Recall: 0.7887, F1: 0.7854\n",
      "Dev Precision: 0.7876, Recall: 0.7624, F1: 0.7663\n",
      "\n",
      "Epoch 3/10, Loss: 0.1357\n",
      "Train Precision: 0.8456, Recall: 0.8242, F1: 0.8292\n",
      "Dev Precision: 0.8190, Recall: 0.7868, F1: 0.7960\n",
      "\n",
      "Epoch 4/10, Loss: 0.1065\n",
      "Train Precision: 0.8784, Recall: 0.8514, F1: 0.8609\n",
      "Dev Precision: 0.8501, Recall: 0.8076, F1: 0.8229\n",
      "\n",
      "Epoch 5/10, Loss: 0.0868\n",
      "Train Precision: 0.8828, Recall: 0.8830, F1: 0.8813\n",
      "Dev Precision: 0.8434, Recall: 0.8254, F1: 0.8314\n",
      "\n",
      "Epoch 6/10, Loss: 0.0715\n",
      "Train Precision: 0.8952, Recall: 0.8999, F1: 0.8947\n",
      "Dev Precision: 0.8437, Recall: 0.8359, F1: 0.8357\n",
      "\n",
      "Epoch 7/10, Loss: 0.0595\n",
      "Train Precision: 0.8984, Recall: 0.9205, F1: 0.9073\n",
      "Dev Precision: 0.8338, Recall: 0.8453, F1: 0.8367\n",
      "\n",
      "Epoch 8/10, Loss: 0.0487\n",
      "Train Precision: 0.9257, Recall: 0.9280, F1: 0.9256\n",
      "Dev Precision: 0.8523, Recall: 0.8363, F1: 0.8425\n",
      "\n",
      "Epoch 9/10, Loss: 0.0408\n",
      "Train Precision: 0.9434, Recall: 0.9333, F1: 0.9367\n",
      "Dev Precision: 0.8600, Recall: 0.8296, F1: 0.8418\n",
      "\n",
      "Epoch 10/10, Loss: 0.0340\n",
      "Train Precision: 0.9529, Recall: 0.9412, F1: 0.9459\n",
      "Dev Precision: 0.8665, Recall: 0.8221, F1: 0.8412\n",
      "\n",
      "Training finished.\n"
     ]
    }
   ],
   "source": [
    "epochs = 10  \n",
    "\n",
    "train_model_baseline(\n",
    "    model=model,\n",
    "    train_loaders=train_loaders,\n",
    "    dev_loaders=dev_loaders,\n",
    "    optimizer=optimizer,\n",
    "    criterion=criterion,\n",
    "    epochs=epochs\n",
    ")"
   ]
  }
 ],
 "metadata": {
  "kaggle": {
   "accelerator": "nvidiaTeslaT4",
   "dataSources": [
    {
     "datasetId": 6296502,
     "sourceId": 10191035,
     "sourceType": "datasetVersion"
    }
   ],
   "dockerImageVersionId": 30804,
   "isGpuEnabled": true,
   "isInternetEnabled": false,
   "language": "python",
   "sourceType": "notebook"
  },
  "kernelspec": {
   "display_name": "Python 3",
   "language": "python",
   "name": "python3"
  },
  "language_info": {
   "codemirror_mode": {
    "name": "ipython",
    "version": 3
   },
   "file_extension": ".py",
   "mimetype": "text/x-python",
   "name": "python",
   "nbconvert_exporter": "python",
   "pygments_lexer": "ipython3",
   "version": "3.10.14"
  }
 },
 "nbformat": 4,
 "nbformat_minor": 4
}
