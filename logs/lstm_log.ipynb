{
 "cells": [
  {
   "cell_type": "code",
   "execution_count": 83,
   "metadata": {
    "execution": {
     "iopub.execute_input": "2024-12-14T06:59:53.245051Z",
     "iopub.status.busy": "2024-12-14T06:59:53.244623Z",
     "iopub.status.idle": "2024-12-14T07:06:47.66269Z",
     "shell.execute_reply": "2024-12-14T07:06:47.661179Z",
     "shell.execute_reply.started": "2024-12-14T06:59:53.245007Z"
    },
    "trusted": true
   },
   "outputs": [
    {
     "name": "stdout",
     "output_type": "stream",
     "text": [
      "Epoch 1/30, Loss: 0.5541\n",
      "Train Precision: 0.7386, Recall: 0.5576, F1: 0.5726\n",
      "Dev Precision: 0.7498, Recall: 0.5395, F1: 0.5619\n",
      "\n",
      "Epoch 2/30, Loss: 0.2523\n",
      "Train Precision: 0.7897, Recall: 0.6548, F1: 0.6805\n",
      "Dev Precision: 0.7912, Recall: 0.6396, F1: 0.6738\n",
      "\n",
      "Epoch 3/30, Loss: 0.1955\n",
      "Train Precision: 0.8143, Recall: 0.7198, F1: 0.7446\n",
      "Dev Precision: 0.8147, Recall: 0.7020, F1: 0.7339\n",
      "\n",
      "Epoch 4/30, Loss: 0.1663\n",
      "Train Precision: 0.8251, Recall: 0.7493, F1: 0.7689\n",
      "Dev Precision: 0.8190, Recall: 0.7193, F1: 0.7474\n",
      "\n",
      "Epoch 5/30, Loss: 0.1469\n",
      "Train Precision: 0.8277, Recall: 0.7804, F1: 0.7895\n",
      "Dev Precision: 0.8114, Recall: 0.7517, F1: 0.7655\n",
      "\n",
      "Epoch 6/30, Loss: 0.1340\n",
      "Train Precision: 0.8590, Recall: 0.7907, F1: 0.8138\n",
      "Dev Precision: 0.8431, Recall: 0.7587, F1: 0.7892\n",
      "\n",
      "Epoch 7/30, Loss: 0.1234\n",
      "Train Precision: 0.8631, Recall: 0.8142, F1: 0.8293\n",
      "Dev Precision: 0.8432, Recall: 0.7810, F1: 0.8025\n",
      "\n",
      "Epoch 8/30, Loss: 0.1144\n",
      "Train Precision: 0.8896, Recall: 0.8308, F1: 0.8547\n",
      "Dev Precision: 0.8609, Recall: 0.7808, F1: 0.8136\n",
      "\n",
      "Epoch 9/30, Loss: 0.1073\n",
      "Train Precision: 0.9002, Recall: 0.8411, F1: 0.8666\n",
      "Dev Precision: 0.8682, Recall: 0.7856, F1: 0.8205\n",
      "\n",
      "Epoch 10/30, Loss: 0.1013\n",
      "Train Precision: 0.9190, Recall: 0.8345, F1: 0.8715\n",
      "Dev Precision: 0.8862, Recall: 0.7716, F1: 0.8193\n",
      "\n",
      "Epoch 11/30, Loss: 0.0952\n",
      "Train Precision: 0.9015, Recall: 0.8539, F1: 0.8725\n",
      "Dev Precision: 0.8667, Recall: 0.7890, F1: 0.8199\n",
      "\n",
      "Epoch 12/30, Loss: 0.0906\n",
      "Train Precision: 0.9227, Recall: 0.8597, F1: 0.8873\n",
      "Dev Precision: 0.8788, Recall: 0.7854, F1: 0.8248\n",
      "\n",
      "Epoch 13/30, Loss: 0.0862\n",
      "Train Precision: 0.9288, Recall: 0.8652, F1: 0.8938\n",
      "Dev Precision: 0.8839, Recall: 0.7865, F1: 0.8280\n",
      "\n",
      "Epoch 14/30, Loss: 0.0825\n",
      "Train Precision: 0.9361, Recall: 0.8668, F1: 0.8983\n",
      "Dev Precision: 0.8888, Recall: 0.7840, F1: 0.8287\n",
      "\n",
      "Epoch 15/30, Loss: 0.0781\n",
      "Train Precision: 0.9392, Recall: 0.8680, F1: 0.8997\n",
      "Dev Precision: 0.8915, Recall: 0.7822, F1: 0.8281\n",
      "\n",
      "Epoch 16/30, Loss: 0.0757\n",
      "Train Precision: 0.9403, Recall: 0.8757, F1: 0.9049\n",
      "Dev Precision: 0.8894, Recall: 0.7886, F1: 0.8317\n",
      "\n",
      "Epoch 17/30, Loss: 0.0721\n",
      "Train Precision: 0.9440, Recall: 0.8872, F1: 0.9134\n",
      "Dev Precision: 0.8931, Recall: 0.7981, F1: 0.8385\n",
      "\n",
      "Epoch 18/30, Loss: 0.0697\n",
      "Train Precision: 0.9464, Recall: 0.8856, F1: 0.9136\n",
      "Dev Precision: 0.8913, Recall: 0.7888, F1: 0.8330\n",
      "\n",
      "Epoch 19/30, Loss: 0.0674\n",
      "Train Precision: 0.9426, Recall: 0.9048, F1: 0.9226\n",
      "Dev Precision: 0.8815, Recall: 0.8059, F1: 0.8395\n",
      "\n",
      "Epoch 20/30, Loss: 0.0659\n",
      "Train Precision: 0.9546, Recall: 0.8988, F1: 0.9250\n",
      "Dev Precision: 0.8923, Recall: 0.7915, F1: 0.8350\n",
      "\n",
      "Epoch 21/30, Loss: 0.0637\n",
      "Train Precision: 0.9467, Recall: 0.9182, F1: 0.9319\n",
      "Dev Precision: 0.8781, Recall: 0.8037, F1: 0.8367\n",
      "\n",
      "Epoch 22/30, Loss: 0.0613\n",
      "Train Precision: 0.9555, Recall: 0.9113, F1: 0.9323\n",
      "Dev Precision: 0.8937, Recall: 0.7979, F1: 0.8390\n",
      "\n",
      "Epoch 23/30, Loss: 0.0600\n",
      "Train Precision: 0.9563, Recall: 0.9175, F1: 0.9361\n",
      "Dev Precision: 0.8896, Recall: 0.8031, F1: 0.8409\n",
      "\n",
      "Epoch 24/30, Loss: 0.0579\n",
      "Train Precision: 0.9613, Recall: 0.9164, F1: 0.9378\n",
      "Dev Precision: 0.8966, Recall: 0.7982, F1: 0.8406\n",
      "\n",
      "Epoch 25/30, Loss: 0.0569\n",
      "Train Precision: 0.9595, Recall: 0.9243, F1: 0.9411\n",
      "Dev Precision: 0.8909, Recall: 0.8057, F1: 0.8429\n",
      "\n",
      "Epoch 26/30, Loss: 0.0549\n",
      "Train Precision: 0.9635, Recall: 0.9213, F1: 0.9413\n",
      "Dev Precision: 0.8969, Recall: 0.7996, F1: 0.8411\n",
      "\n",
      "Epoch 27/30, Loss: 0.0545\n",
      "Train Precision: 0.9656, Recall: 0.9106, F1: 0.9366\n",
      "Dev Precision: 0.9011, Recall: 0.7873, F1: 0.8348\n",
      "\n",
      "Epoch 28/30, Loss: 0.0527\n",
      "Train Precision: 0.9662, Recall: 0.9266, F1: 0.9456\n",
      "Dev Precision: 0.8942, Recall: 0.7939, F1: 0.8364\n",
      "\n",
      "Epoch 29/30, Loss: 0.0523\n",
      "Train Precision: 0.9650, Recall: 0.9356, F1: 0.9498\n",
      "Dev Precision: 0.8881, Recall: 0.8034, F1: 0.8402\n",
      "\n",
      "Epoch 30/30, Loss: 0.0509\n",
      "Train Precision: 0.9687, Recall: 0.9369, F1: 0.9523\n",
      "Dev Precision: 0.8945, Recall: 0.8028, F1: 0.8422\n",
      "\n",
      "Training finished.\n"
     ]
    }
   ],
   "source": [
    "epochs = 30\n",
    "\n",
    "train_model_baseline(\n",
    "    model=model,\n",
    "    train_loaders=train_loaders,\n",
    "    dev_loaders=dev_loaders,\n",
    "    optimizer=optimizer,\n",
    "    criterion=criterion,\n",
    "    epochs=epochs\n",
    ")\n"
   ]
  },
  {
   "cell_type": "code",
   "execution_count": 84,
   "metadata": {
    "execution": {
     "iopub.execute_input": "2024-12-14T07:09:31.76761Z",
     "iopub.status.busy": "2024-12-14T07:09:31.767167Z",
     "iopub.status.idle": "2024-12-14T07:09:31.773699Z",
     "shell.execute_reply": "2024-12-14T07:09:31.772335Z",
     "shell.execute_reply.started": "2024-12-14T07:09:31.767575Z"
    },
    "trusted": true
   },
   "outputs": [],
   "source": [
    "from sklearn.metrics import classification_report\n"
   ]
  },
  {
   "cell_type": "code",
   "execution_count": 85,
   "metadata": {
    "execution": {
     "iopub.execute_input": "2024-12-14T07:48:36.022078Z",
     "iopub.status.busy": "2024-12-14T07:48:36.021189Z",
     "iopub.status.idle": "2024-12-14T07:48:38.434885Z",
     "shell.execute_reply": "2024-12-14T07:48:38.433804Z",
     "shell.execute_reply.started": "2024-12-14T07:48:36.022037Z"
    },
    "trusted": true
   },
   "outputs": [
    {
     "name": "stdout",
     "output_type": "stream",
     "text": [
      "              precision    recall  f1-score   support\n",
      "\n",
      "       B-LOC       0.85      0.87      0.86      1668\n",
      "      B-MISC       0.74      0.62      0.68       702\n",
      "       B-ORG       0.81      0.72      0.76      1661\n",
      "       B-PER       0.91      0.90      0.90      1617\n",
      "       I-LOC       0.67      0.68      0.67       257\n",
      "      I-MISC       0.67      0.54      0.60       216\n",
      "       I-ORG       0.77      0.65      0.70       835\n",
      "       I-PER       0.95      0.95      0.95      1156\n",
      "           O       0.98      0.99      0.98     38323\n",
      "\n",
      "    accuracy                           0.96     46435\n",
      "   macro avg       0.82      0.77      0.79     46435\n",
      "weighted avg       0.95      0.96      0.95     46435\n",
      "\n"
     ]
    }
   ],
   "source": [
    "model.eval()\n",
    "all_preds = []\n",
    "all_labels = []\n",
    "    \n",
    "with torch.no_grad():\n",
    "    for loader in test_loaders:\n",
    "        for batch in loader:\n",
    "            tokens, labels = batch\n",
    "            tokens = tokens.to(model.device)\n",
    "            labels = labels.to(model.device)\n",
    "                \n",
    "            outputs = model.forward(tokens)  # [batch_size, seq_len, num_labels]\n",
    "            preds = torch.argmax(outputs, dim=-1)  # [batch_size, seq_len]\n",
    "                \n",
    "            all_preds.extend(preds.cpu().numpy().tolist())\n",
    "            all_labels.extend(labels.cpu().numpy().tolist())\n",
    "    \n",
    "y_pred = []\n",
    "y_true = []\n",
    "for pred_seq, true_seq in zip(all_preds, all_labels):\n",
    "    for p, t in zip(pred_seq, true_seq):\n",
    "            y_pred.append(p)\n",
    "            y_true.append(t)\n",
    "labels = list(label2Idx.values())\n",
    "target_names = list(label2Idx.keys())\n",
    "report = classification_report(y_true, y_pred, labels=labels, target_names=target_names, zero_division=0)\n",
    "print(report)"
   ]
  },
  {
   "cell_type": "markdown",
   "metadata": {},
   "source": [
    "----------------"
   ]
  },
  {
   "cell_type": "code",
   "execution_count": 87,
   "metadata": {},
   "outputs": [],
   "source": [
    "# Save trained model\n",
    "import os\n",
    "os.makedirs('models', exist_ok=True)  # Create folder if not exist\n",
    "torch.save(model.state_dict(), 'models/LSTM_model2.pth')\n",
    "\n",
    "# # Use trained model\n",
    "# model.load_state_dict(torch.load('models/LSTM_model.pth', weights_only=True))\n",
    "\n"
   ]
  }
 ],
 "metadata": {
  "kaggle": {
   "accelerator": "none",
   "dataSources": [
    {
     "datasetId": 6296502,
     "sourceId": 10191035,
     "sourceType": "datasetVersion"
    }
   ],
   "dockerImageVersionId": 30804,
   "isGpuEnabled": false,
   "isInternetEnabled": false,
   "language": "python",
   "sourceType": "notebook"
  },
  "kernelspec": {
   "display_name": "Python 3",
   "language": "python",
   "name": "python3"
  },
  "language_info": {
   "codemirror_mode": {
    "name": "ipython",
    "version": 3
   },
   "file_extension": ".py",
   "mimetype": "text/x-python",
   "name": "python",
   "nbconvert_exporter": "python",
   "pygments_lexer": "ipython3",
   "version": "3.12.8"
  }
 },
 "nbformat": 4,
 "nbformat_minor": 4
}
