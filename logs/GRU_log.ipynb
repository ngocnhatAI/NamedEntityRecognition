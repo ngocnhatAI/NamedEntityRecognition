{
 "cells": [
  {
   "cell_type": "code",
   "execution_count": 13,
   "metadata": {
    "execution": {
     "iopub.execute_input": "2024-12-14T19:12:18.925585Z",
     "iopub.status.busy": "2024-12-14T19:12:18.925069Z",
     "iopub.status.idle": "2024-12-14T19:15:14.771124Z",
     "shell.execute_reply": "2024-12-14T19:15:14.770213Z",
     "shell.execute_reply.started": "2024-12-14T19:12:18.925556Z"
    },
    "trusted": true
   },
   "outputs": [
    {
     "name": "stdout",
     "output_type": "stream",
     "text": [
      "Epoch 1/10, Loss: 0.5966\n",
      "Train Precision: 0.7249, Recall: 0.4895, F1: 0.5298\n"
     ]
    },
    {
     "name": "stderr",
     "output_type": "stream",
     "text": [
      "/opt/conda/lib/python3.10/site-packages/sklearn/metrics/_classification.py:1344: UndefinedMetricWarning: Precision is ill-defined and being set to 0.0 in labels with no predicted samples. Use `zero_division` parameter to control this behavior.\n",
      "  _warn_prf(average, modifier, msg_start, len(result))\n"
     ]
    },
    {
     "name": "stdout",
     "output_type": "stream",
     "text": [
      "Dev Precision: 0.7398, Recall: 0.4698, F1: 0.5141\n",
      "\n",
      "Epoch 2/10, Loss: 0.3504\n",
      "Train Precision: 0.8082, Recall: 0.5562, F1: 0.6127\n",
      "Dev Precision: 0.7893, Recall: 0.5300, F1: 0.5874\n",
      "\n",
      "Epoch 3/10, Loss: 0.3059\n",
      "Train Precision: 0.8265, Recall: 0.6203, F1: 0.6797\n",
      "Dev Precision: 0.8331, Recall: 0.5983, F1: 0.6646\n",
      "\n",
      "Epoch 4/10, Loss: 0.2820\n",
      "Train Precision: 0.8352, Recall: 0.6652, F1: 0.7223\n",
      "Dev Precision: 0.8343, Recall: 0.6360, F1: 0.6997\n",
      "\n",
      "Epoch 5/10, Loss: 0.2655\n",
      "Train Precision: 0.8563, Recall: 0.6784, F1: 0.7387\n",
      "Dev Precision: 0.8498, Recall: 0.6452, F1: 0.7103\n",
      "\n",
      "Epoch 6/10, Loss: 0.2530\n",
      "Train Precision: 0.8623, Recall: 0.6883, F1: 0.7480\n",
      "Dev Precision: 0.8566, Recall: 0.6531, F1: 0.7185\n",
      "\n",
      "Epoch 7/10, Loss: 0.2443\n",
      "Train Precision: 0.8744, Recall: 0.6861, F1: 0.7486\n",
      "Dev Precision: 0.8635, Recall: 0.6517, F1: 0.7185\n",
      "\n",
      "Epoch 8/10, Loss: 0.2402\n",
      "Train Precision: 0.8786, Recall: 0.7025, F1: 0.7656\n",
      "Dev Precision: 0.8728, Recall: 0.6685, F1: 0.7371\n",
      "\n",
      "Epoch 9/10, Loss: 0.2335\n",
      "Train Precision: 0.8708, Recall: 0.7137, F1: 0.7713\n",
      "Dev Precision: 0.8642, Recall: 0.6775, F1: 0.7415\n",
      "\n",
      "Epoch 10/10, Loss: 0.2286\n",
      "Train Precision: 0.8700, Recall: 0.7359, F1: 0.7869\n",
      "Dev Precision: 0.8610, Recall: 0.6973, F1: 0.7550\n",
      "\n",
      "Training finished.\n",
      "done\n"
     ]
    }
   ],
   "source": [
    "epochs = 10\n",
    "\n",
    "train_model_baseline(\n",
    "    model=model,\n",
    "    train_loaders=train_loaders,\n",
    "    dev_loaders=dev_loaders,\n",
    "    optimizer=optimizer,\n",
    "    criterion=criterion,\n",
    "    epochs=epochs\n",
    ")\n",
    "print(\"done\")"
   ]
  },
  {
   "cell_type": "code",
   "execution_count": 14,
   "metadata": {
    "execution": {
     "iopub.execute_input": "2024-12-14T19:15:14.772627Z",
     "iopub.status.busy": "2024-12-14T19:15:14.772255Z",
     "iopub.status.idle": "2024-12-14T19:15:14.777210Z",
     "shell.execute_reply": "2024-12-14T19:15:14.776383Z",
     "shell.execute_reply.started": "2024-12-14T19:15:14.772586Z"
    },
    "trusted": true
   },
   "outputs": [],
   "source": [
    "from sklearn.metrics import classification_report\n"
   ]
  },
  {
   "cell_type": "code",
   "execution_count": 15,
   "metadata": {
    "execution": {
     "iopub.execute_input": "2024-12-14T19:15:14.778624Z",
     "iopub.status.busy": "2024-12-14T19:15:14.778291Z",
     "iopub.status.idle": "2024-12-14T19:15:16.251347Z",
     "shell.execute_reply": "2024-12-14T19:15:16.250482Z",
     "shell.execute_reply.started": "2024-12-14T19:15:14.778587Z"
    },
    "trusted": true
   },
   "outputs": [
    {
     "name": "stdout",
     "output_type": "stream",
     "text": [
      "              precision    recall  f1-score   support\n",
      "\n",
      "       B-LOC       0.85      0.82      0.84      1668\n",
      "      B-MISC       0.81      0.55      0.65       702\n",
      "       B-ORG       0.77      0.68      0.72      1661\n",
      "       B-PER       0.87      0.90      0.89      1617\n",
      "       I-LOC       0.69      0.65      0.67       257\n",
      "      I-MISC       0.61      0.42      0.50       216\n",
      "       I-ORG       0.83      0.50      0.62       835\n",
      "       I-PER       0.94      0.93      0.93      1156\n",
      "           O       0.97      0.99      0.98     38323\n",
      "\n",
      "    accuracy                           0.95     46435\n",
      "   macro avg       0.82      0.72      0.76     46435\n",
      "weighted avg       0.94      0.95      0.95     46435\n",
      "\n"
     ]
    }
   ],
   "source": [
    "model.eval()\n",
    "all_preds = []\n",
    "all_labels = []\n",
    "    \n",
    "with torch.no_grad():\n",
    "    for loader in test_loaders:\n",
    "        for batch in loader:\n",
    "            tokens, labels = batch\n",
    "            tokens = tokens.to(model.device)\n",
    "            labels = labels.to(model.device)\n",
    "                \n",
    "            outputs = model.forward(tokens)  # [batch_size, seq_len, num_labels]\n",
    "            preds = torch.argmax(outputs, dim=-1)  # [batch_size, seq_len]\n",
    "                \n",
    "            all_preds.extend(preds.cpu().numpy().tolist())\n",
    "            all_labels.extend(labels.cpu().numpy().tolist())\n",
    "    \n",
    "y_pred = []\n",
    "y_true = []\n",
    "for pred_seq, true_seq in zip(all_preds, all_labels):\n",
    "    for p, t in zip(pred_seq, true_seq):\n",
    "            y_pred.append(p)\n",
    "            y_true.append(t)\n",
    "labels = list(label2Idx.values())\n",
    "target_names = list(label2Idx.keys())\n",
    "report = classification_report(y_true, y_pred, labels=labels, target_names=target_names, zero_division=0)\n",
    "print(report)"
   ]
  },
  {
   "cell_type": "markdown",
   "metadata": {},
   "source": [
    "----------------"
   ]
  }
 ],
 "metadata": {
  "kaggle": {
   "accelerator": "nvidiaTeslaT4",
   "dataSources": [
    {
     "datasetId": 6296502,
     "sourceId": 10191035,
     "sourceType": "datasetVersion"
    }
   ],
   "dockerImageVersionId": 30805,
   "isGpuEnabled": true,
   "isInternetEnabled": false,
   "language": "python",
   "sourceType": "notebook"
  },
  "kernelspec": {
   "display_name": "Python 3",
   "language": "python",
   "name": "python3"
  },
  "language_info": {
   "codemirror_mode": {
    "name": "ipython",
    "version": 3
   },
   "file_extension": ".py",
   "mimetype": "text/x-python",
   "name": "python",
   "nbconvert_exporter": "python",
   "pygments_lexer": "ipython3",
   "version": "3.10.14"
  }
 },
 "nbformat": 4,
 "nbformat_minor": 4
}
